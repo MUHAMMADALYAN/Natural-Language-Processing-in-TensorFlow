{
  "nbformat": 4,
  "nbformat_minor": 0,
  "metadata": {
    "accelerator": "GPU",
    "colab": {
      "name": "Using Sarcasm dataset for NLP usind LSTM and covolution with embedding.ipynb",
      "provenance": [],
      "collapsed_sections": [],
      "toc_visible": true,
      "include_colab_link": true
    },
    "kernelspec": {
      "display_name": "Python 3",
      "name": "python3"
    }
  },
  "cells": [
    {
      "cell_type": "markdown",
      "metadata": {
        "id": "view-in-github",
        "colab_type": "text"
      },
      "source": [
        "<a href=\"https://colab.research.google.com/github/MUHAMMADALYAN/Natural-Language-Processing-in-TensorFlow/blob/master/Using_Sarcasm_dataset_for_NLP_usind_LSTM_and_covolution_with_embedding.ipynb\" target=\"_parent\"><img src=\"https://colab.research.google.com/assets/colab-badge.svg\" alt=\"Open In Colab\"/></a>"
      ]
    },
    {
      "cell_type": "markdown",
      "metadata": {
        "id": "63oi9E4qzCaR",
        "colab_type": "text"
      },
      "source": [
        "# Using Sarcasm dataset for NLP usind LSTM and covolution with embedding"
      ]
    },
    {
      "cell_type": "code",
      "metadata": {
        "colab_type": "code",
        "id": "jGwXGIXvFhXW",
        "outputId": "0327cad0-e760-4576-d23f-4f7d114ce637",
        "colab": {
          "base_uri": "https://localhost:8080/",
          "height": 204
        }
      },
      "source": [
        "import json\n",
        "import tensorflow as tf\n",
        "import numpy as np\n",
        "\n",
        "from tensorflow.keras.preprocessing.text import Tokenizer\n",
        "from tensorflow.keras.preprocessing.sequence import pad_sequences\n",
        "\n",
        "!wget --no-check-certificate \\\n",
        "    https://storage.googleapis.com/laurencemoroney-blog.appspot.com/sarcasm.json \\\n",
        "    -O /tmp/sarcasm.json\n",
        "\n",
        "vocab_size = 1000\n",
        "embedding_dim = 16\n",
        "max_length = 120\n",
        "trunc_type='post'\n",
        "padding_type='post'\n",
        "oov_tok = \"<OOV>\"\n",
        "training_size = 20000\n",
        "\n",
        "\n",
        "with open(\"/tmp/sarcasm.json\", 'r') as f:\n",
        "    datastore = json.load(f)\n",
        "\n",
        "\n",
        "sentences = []\n",
        "labels = []\n",
        "urls = []\n",
        "for item in datastore:\n",
        "    sentences.append(item['headline'])\n",
        "    labels.append(item['is_sarcastic'])\n",
        "\n",
        "training_sentences = sentences[0:training_size]\n",
        "testing_sentences = sentences[training_size:]\n",
        "training_labels = labels[0:training_size]\n",
        "testing_labels = labels[training_size:]\n",
        "\n",
        "tokenizer = Tokenizer(num_words=vocab_size, oov_token=oov_tok)\n",
        "tokenizer.fit_on_texts(training_sentences)\n",
        "\n",
        "word_index = tokenizer.word_index\n",
        "\n",
        "training_sequences = tokenizer.texts_to_sequences(training_sentences)\n",
        "training_padded = pad_sequences(training_sequences, maxlen=max_length, padding=padding_type, truncating=trunc_type)\n",
        "\n",
        "testing_sequences = tokenizer.texts_to_sequences(testing_sentences)\n",
        "testing_padded = pad_sequences(testing_sequences, maxlen=max_length, padding=padding_type, truncating=trunc_type)\n",
        "\n"
      ],
      "execution_count": 0,
      "outputs": [
        {
          "output_type": "stream",
          "text": [
            "--2020-05-31 12:33:56--  https://storage.googleapis.com/laurencemoroney-blog.appspot.com/sarcasm.json\n",
            "Resolving storage.googleapis.com (storage.googleapis.com)... 74.125.70.128, 2607:f8b0:4001:c03::80\n",
            "Connecting to storage.googleapis.com (storage.googleapis.com)|74.125.70.128|:443... connected.\n",
            "HTTP request sent, awaiting response... 200 OK\n",
            "Length: 5643545 (5.4M) [application/json]\n",
            "Saving to: ‘/tmp/sarcasm.json’\n",
            "\n",
            "\r/tmp/sarcasm.json     0%[                    ]       0  --.-KB/s               \r/tmp/sarcasm.json   100%[===================>]   5.38M  --.-KB/s    in 0.04s   \n",
            "\n",
            "2020-05-31 12:33:56 (145 MB/s) - ‘/tmp/sarcasm.json’ saved [5643545/5643545]\n",
            "\n"
          ],
          "name": "stdout"
        }
      ]
    },
    {
      "cell_type": "markdown",
      "metadata": {
        "id": "ogGl0MykuKiw",
        "colab_type": "text"
      },
      "source": [
        "# NLP using LSTM with Embedding."
      ]
    },
    {
      "cell_type": "code",
      "metadata": {
        "id": "vfN0ofJXtmgb",
        "colab_type": "code",
        "outputId": "592ed389-e00e-4669-89d4-0c03d61120c3",
        "colab": {
          "base_uri": "https://localhost:8080/",
          "height": 1000
        }
      },
      "source": [
        "model = tf.keras.Sequential([\n",
        "    tf.keras.layers.Embedding(vocab_size, embedding_dim, input_length=max_length),\n",
        "    tf.keras.layers.Bidirectional(tf.keras.layers.LSTM(32)),\n",
        "    tf.keras.layers.Dense(24, activation='relu'),\n",
        "    tf.keras.layers.Dense(1, activation='sigmoid')\n",
        "])\n",
        "model.compile(loss='binary_crossentropy',optimizer='adam',metrics=['accuracy'])\n",
        "model.summary()\n",
        "\n",
        "num_epochs = 50\n",
        "training_padded = np.array(training_padded)\n",
        "training_labels = np.array(training_labels)\n",
        "testing_padded = np.array(testing_padded)\n",
        "testing_labels = np.array(testing_labels)\n",
        "history = model.fit(training_padded, training_labels, epochs=num_epochs, validation_data=(testing_padded, testing_labels), verbose=1)"
      ],
      "execution_count": 0,
      "outputs": [
        {
          "output_type": "stream",
          "text": [
            "Model: \"sequential_4\"\n",
            "_________________________________________________________________\n",
            "Layer (type)                 Output Shape              Param #   \n",
            "=================================================================\n",
            "embedding_4 (Embedding)      (None, 120, 16)           16000     \n",
            "_________________________________________________________________\n",
            "bidirectional (Bidirectional (None, 64)                12544     \n",
            "_________________________________________________________________\n",
            "dense_8 (Dense)              (None, 24)                1560      \n",
            "_________________________________________________________________\n",
            "dense_9 (Dense)              (None, 1)                 25        \n",
            "=================================================================\n",
            "Total params: 30,129\n",
            "Trainable params: 30,129\n",
            "Non-trainable params: 0\n",
            "_________________________________________________________________\n",
            "Epoch 1/50\n",
            "625/625 [==============================] - 9s 14ms/step - loss: 0.4632 - accuracy: 0.7715 - val_loss: 0.3904 - val_accuracy: 0.8185\n",
            "Epoch 2/50\n",
            "625/625 [==============================] - 8s 13ms/step - loss: 0.3507 - accuracy: 0.8389 - val_loss: 0.3804 - val_accuracy: 0.8231\n",
            "Epoch 3/50\n",
            "625/625 [==============================] - 8s 13ms/step - loss: 0.3269 - accuracy: 0.8516 - val_loss: 0.3715 - val_accuracy: 0.8308\n",
            "Epoch 4/50\n",
            "625/625 [==============================] - 8s 13ms/step - loss: 0.3120 - accuracy: 0.8607 - val_loss: 0.3718 - val_accuracy: 0.8316\n",
            "Epoch 5/50\n",
            "625/625 [==============================] - 8s 13ms/step - loss: 0.3023 - accuracy: 0.8649 - val_loss: 0.3703 - val_accuracy: 0.8298\n",
            "Epoch 6/50\n",
            "625/625 [==============================] - 8s 13ms/step - loss: 0.2950 - accuracy: 0.8695 - val_loss: 0.3781 - val_accuracy: 0.8259\n",
            "Epoch 7/50\n",
            "625/625 [==============================] - 8s 13ms/step - loss: 0.2866 - accuracy: 0.8733 - val_loss: 0.3854 - val_accuracy: 0.8280\n",
            "Epoch 8/50\n",
            "625/625 [==============================] - 8s 13ms/step - loss: 0.2782 - accuracy: 0.8789 - val_loss: 0.3859 - val_accuracy: 0.8293\n",
            "Epoch 9/50\n",
            "625/625 [==============================] - 8s 13ms/step - loss: 0.2710 - accuracy: 0.8820 - val_loss: 0.3877 - val_accuracy: 0.8304\n",
            "Epoch 10/50\n",
            "625/625 [==============================] - 8s 13ms/step - loss: 0.2626 - accuracy: 0.8853 - val_loss: 0.4067 - val_accuracy: 0.8280\n",
            "Epoch 11/50\n",
            "625/625 [==============================] - 8s 13ms/step - loss: 0.2536 - accuracy: 0.8902 - val_loss: 0.4069 - val_accuracy: 0.8246\n",
            "Epoch 12/50\n",
            "625/625 [==============================] - 8s 13ms/step - loss: 0.2463 - accuracy: 0.8932 - val_loss: 0.4119 - val_accuracy: 0.8261\n",
            "Epoch 13/50\n",
            "625/625 [==============================] - 8s 13ms/step - loss: 0.2394 - accuracy: 0.8962 - val_loss: 0.4268 - val_accuracy: 0.8256\n",
            "Epoch 14/50\n",
            "625/625 [==============================] - 8s 13ms/step - loss: 0.2310 - accuracy: 0.9028 - val_loss: 0.4488 - val_accuracy: 0.8228\n",
            "Epoch 15/50\n",
            "625/625 [==============================] - 8s 13ms/step - loss: 0.2236 - accuracy: 0.9046 - val_loss: 0.4306 - val_accuracy: 0.8204\n",
            "Epoch 16/50\n",
            "625/625 [==============================] - 8s 13ms/step - loss: 0.2165 - accuracy: 0.9087 - val_loss: 0.4900 - val_accuracy: 0.8196\n",
            "Epoch 17/50\n",
            "625/625 [==============================] - 8s 13ms/step - loss: 0.2084 - accuracy: 0.9126 - val_loss: 0.5039 - val_accuracy: 0.8232\n",
            "Epoch 18/50\n",
            "625/625 [==============================] - 8s 13ms/step - loss: 0.2011 - accuracy: 0.9152 - val_loss: 0.5052 - val_accuracy: 0.8174\n",
            "Epoch 19/50\n",
            "625/625 [==============================] - 8s 13ms/step - loss: 0.1925 - accuracy: 0.9197 - val_loss: 0.5092 - val_accuracy: 0.8173\n",
            "Epoch 20/50\n",
            "625/625 [==============================] - 8s 13ms/step - loss: 0.1866 - accuracy: 0.9225 - val_loss: 0.5518 - val_accuracy: 0.8162\n",
            "Epoch 21/50\n",
            "625/625 [==============================] - 8s 13ms/step - loss: 0.1758 - accuracy: 0.9275 - val_loss: 0.5688 - val_accuracy: 0.8126\n",
            "Epoch 22/50\n",
            "625/625 [==============================] - 8s 13ms/step - loss: 0.1703 - accuracy: 0.9287 - val_loss: 0.5585 - val_accuracy: 0.8128\n",
            "Epoch 23/50\n",
            "625/625 [==============================] - 8s 13ms/step - loss: 0.1634 - accuracy: 0.9326 - val_loss: 0.6250 - val_accuracy: 0.8114\n",
            "Epoch 24/50\n",
            "625/625 [==============================] - 8s 13ms/step - loss: 0.1575 - accuracy: 0.9359 - val_loss: 0.6447 - val_accuracy: 0.8107\n",
            "Epoch 25/50\n",
            "625/625 [==============================] - 8s 13ms/step - loss: 0.1488 - accuracy: 0.9391 - val_loss: 0.7259 - val_accuracy: 0.8106\n",
            "Epoch 26/50\n",
            "625/625 [==============================] - 8s 13ms/step - loss: 0.1447 - accuracy: 0.9413 - val_loss: 0.6728 - val_accuracy: 0.8083\n",
            "Epoch 27/50\n",
            "625/625 [==============================] - 8s 13ms/step - loss: 0.1363 - accuracy: 0.9445 - val_loss: 0.7767 - val_accuracy: 0.8122\n",
            "Epoch 28/50\n",
            "625/625 [==============================] - 8s 13ms/step - loss: 0.1349 - accuracy: 0.9465 - val_loss: 0.7441 - val_accuracy: 0.8137\n",
            "Epoch 29/50\n",
            "625/625 [==============================] - 8s 13ms/step - loss: 0.1271 - accuracy: 0.9492 - val_loss: 0.8132 - val_accuracy: 0.8031\n",
            "Epoch 30/50\n",
            "625/625 [==============================] - 8s 13ms/step - loss: 0.1185 - accuracy: 0.9509 - val_loss: 0.8186 - val_accuracy: 0.8056\n",
            "Epoch 31/50\n",
            "625/625 [==============================] - 8s 13ms/step - loss: 0.1153 - accuracy: 0.9527 - val_loss: 0.8840 - val_accuracy: 0.8062\n",
            "Epoch 32/50\n",
            "625/625 [==============================] - 8s 13ms/step - loss: 0.1111 - accuracy: 0.9553 - val_loss: 0.8852 - val_accuracy: 0.8035\n",
            "Epoch 33/50\n",
            "625/625 [==============================] - 8s 13ms/step - loss: 0.1051 - accuracy: 0.9564 - val_loss: 1.0161 - val_accuracy: 0.8040\n",
            "Epoch 34/50\n",
            "625/625 [==============================] - 8s 13ms/step - loss: 0.0996 - accuracy: 0.9592 - val_loss: 0.9839 - val_accuracy: 0.8022\n",
            "Epoch 35/50\n",
            "625/625 [==============================] - 8s 13ms/step - loss: 0.0963 - accuracy: 0.9598 - val_loss: 1.0585 - val_accuracy: 0.8032\n",
            "Epoch 36/50\n",
            "625/625 [==============================] - 8s 13ms/step - loss: 0.0914 - accuracy: 0.9620 - val_loss: 1.2084 - val_accuracy: 0.8012\n",
            "Epoch 37/50\n",
            "625/625 [==============================] - 8s 13ms/step - loss: 0.0897 - accuracy: 0.9629 - val_loss: 1.0793 - val_accuracy: 0.8018\n",
            "Epoch 38/50\n",
            "625/625 [==============================] - 8s 13ms/step - loss: 0.0817 - accuracy: 0.9665 - val_loss: 1.2083 - val_accuracy: 0.7922\n",
            "Epoch 39/50\n",
            "625/625 [==============================] - 8s 13ms/step - loss: 0.0782 - accuracy: 0.9689 - val_loss: 1.2184 - val_accuracy: 0.7951\n",
            "Epoch 40/50\n",
            "625/625 [==============================] - 8s 13ms/step - loss: 0.0755 - accuracy: 0.9685 - val_loss: 1.3730 - val_accuracy: 0.7979\n",
            "Epoch 41/50\n",
            "625/625 [==============================] - 8s 13ms/step - loss: 0.0741 - accuracy: 0.9704 - val_loss: 1.3220 - val_accuracy: 0.7983\n",
            "Epoch 42/50\n",
            "625/625 [==============================] - 8s 13ms/step - loss: 0.0721 - accuracy: 0.9702 - val_loss: 1.3558 - val_accuracy: 0.7904\n",
            "Epoch 43/50\n",
            "625/625 [==============================] - 8s 13ms/step - loss: 0.0693 - accuracy: 0.9715 - val_loss: 1.4622 - val_accuracy: 0.7943\n",
            "Epoch 44/50\n",
            "625/625 [==============================] - 8s 13ms/step - loss: 0.0682 - accuracy: 0.9711 - val_loss: 1.4888 - val_accuracy: 0.7964\n",
            "Epoch 45/50\n",
            "625/625 [==============================] - 8s 13ms/step - loss: 0.0665 - accuracy: 0.9733 - val_loss: 1.4651 - val_accuracy: 0.7973\n",
            "Epoch 46/50\n",
            "625/625 [==============================] - 8s 13ms/step - loss: 0.0599 - accuracy: 0.9761 - val_loss: 1.5371 - val_accuracy: 0.7906\n",
            "Epoch 47/50\n",
            "625/625 [==============================] - 8s 13ms/step - loss: 0.0581 - accuracy: 0.9765 - val_loss: 1.5770 - val_accuracy: 0.7939\n",
            "Epoch 48/50\n",
            "625/625 [==============================] - 8s 13ms/step - loss: 0.0600 - accuracy: 0.9748 - val_loss: 1.5363 - val_accuracy: 0.7974\n",
            "Epoch 49/50\n",
            "625/625 [==============================] - 8s 13ms/step - loss: 0.0601 - accuracy: 0.9749 - val_loss: 1.5693 - val_accuracy: 0.7970\n",
            "Epoch 50/50\n",
            "625/625 [==============================] - 8s 13ms/step - loss: 0.0532 - accuracy: 0.9783 - val_loss: 1.6336 - val_accuracy: 0.7948\n"
          ],
          "name": "stdout"
        }
      ]
    },
    {
      "cell_type": "code",
      "metadata": {
        "id": "3cYtMtXet4LB",
        "colab_type": "code",
        "outputId": "81e413f6-c3af-4471-a039-c29e0c3ff037",
        "colab": {
          "base_uri": "https://localhost:8080/",
          "height": 541
        }
      },
      "source": [
        "import matplotlib.pyplot as plt\n",
        "\n",
        "\n",
        "def plot_graphs(history, string):\n",
        "  plt.plot(history.history[string])\n",
        "  plt.plot(history.history['val_'+string])\n",
        "  plt.xlabel(\"Epochs\")\n",
        "  plt.ylabel(string)\n",
        "  plt.legend([string, 'val_'+string])\n",
        "  plt.show()\n",
        "\n",
        "plot_graphs(history, 'accuracy')\n",
        "plot_graphs(history, 'loss')"
      ],
      "execution_count": 0,
      "outputs": [
        {
          "output_type": "display_data",
          "data": {
            "image/png": "[encoded data removed]",
            "text/plain": [
              "<Figure size 432x288 with 1 Axes>"
            ]
          },
          "metadata": {
            "tags": [],
            "needs_background": "light"
          }
        },
        {
          "output_type": "display_data",
          "data": {
            "image/png": "[encoded data removed]",
            "text/plain": [
              "<Figure size 432x288 with 1 Axes>"
            ]
          },
          "metadata": {
            "tags": [],
            "needs_background": "light"
          }
        }
      ]
    },
    {
      "cell_type": "markdown",
      "metadata": {
        "id": "Ha8w9x8qt5FT",
        "colab_type": "text"
      },
      "source": [
        "# NLP using Convolution with Embedding."
      ]
    },
    {
      "cell_type": "code",
      "metadata": {
        "id": "_bhJ0GCkthG9",
        "colab_type": "code",
        "outputId": "540a71db-15e3-46b2-caea-ced74b9e1e9c",
        "colab": {
          "base_uri": "https://localhost:8080/",
          "height": 1000
        }
      },
      "source": [
        "model = tf.keras.Sequential([\n",
        "    tf.keras.layers.Embedding(vocab_size, embedding_dim, input_length=max_length),\n",
        "    tf.keras.layers.Conv1D(128, 5, activation='relu'),\n",
        "    tf.keras.layers.GlobalMaxPooling1D(),\n",
        "    tf.keras.layers.Dense(24, activation='relu'),\n",
        "    tf.keras.layers.Dense(1, activation='sigmoid')\n",
        "])\n",
        "model.compile(loss='binary_crossentropy',optimizer='adam',metrics=['accuracy'])\n",
        "model.summary()\n",
        "\n",
        "num_epochs = 50\n",
        "training_padded = np.array(training_padded)\n",
        "training_labels = np.array(training_labels)\n",
        "testing_padded = np.array(testing_padded)\n",
        "testing_labels = np.array(testing_labels)\n",
        "history = model.fit(training_padded, training_labels, epochs=num_epochs, validation_data=(testing_padded, testing_labels), verbose=1)\n"
      ],
      "execution_count": 0,
      "outputs": [
        {
          "output_type": "stream",
          "text": [
            "Model: \"sequential_5\"\n",
            "_________________________________________________________________\n",
            "Layer (type)                 Output Shape              Param #   \n",
            "=================================================================\n",
            "embedding_5 (Embedding)      (None, 120, 16)           16000     \n",
            "_________________________________________________________________\n",
            "conv1d_4 (Conv1D)            (None, 116, 128)          10368     \n",
            "_________________________________________________________________\n",
            "global_max_pooling1d_4 (Glob (None, 128)               0         \n",
            "_________________________________________________________________\n",
            "dense_10 (Dense)             (None, 24)                3096      \n",
            "_________________________________________________________________\n",
            "dense_11 (Dense)             (None, 1)                 25        \n",
            "=================================================================\n",
            "Total params: 29,489\n",
            "Trainable params: 29,489\n",
            "Non-trainable params: 0\n",
            "_________________________________________________________________\n",
            "Epoch 1/50\n",
            "625/625 [==============================] - 2s 4ms/step - loss: 0.4714 - accuracy: 0.7613 - val_loss: 0.4075 - val_accuracy: 0.8122\n",
            "Epoch 2/50\n",
            "625/625 [==============================] - 2s 4ms/step - loss: 0.3593 - accuracy: 0.8386 - val_loss: 0.3906 - val_accuracy: 0.8223\n",
            "Epoch 3/50\n",
            "625/625 [==============================] - 2s 4ms/step - loss: 0.3219 - accuracy: 0.8582 - val_loss: 0.3851 - val_accuracy: 0.8287\n",
            "Epoch 4/50\n",
            "625/625 [==============================] - 2s 4ms/step - loss: 0.2874 - accuracy: 0.8750 - val_loss: 0.4015 - val_accuracy: 0.8244\n",
            "Epoch 5/50\n",
            "625/625 [==============================] - 2s 4ms/step - loss: 0.2538 - accuracy: 0.8934 - val_loss: 0.4309 - val_accuracy: 0.8188\n",
            "Epoch 6/50\n",
            "625/625 [==============================] - 2s 4ms/step - loss: 0.2214 - accuracy: 0.9087 - val_loss: 0.4669 - val_accuracy: 0.8168\n",
            "Epoch 7/50\n",
            "625/625 [==============================] - 2s 4ms/step - loss: 0.1888 - accuracy: 0.9234 - val_loss: 0.4957 - val_accuracy: 0.8082\n",
            "Epoch 8/50\n",
            "625/625 [==============================] - 2s 4ms/step - loss: 0.1571 - accuracy: 0.9404 - val_loss: 0.5577 - val_accuracy: 0.8061\n",
            "Epoch 9/50\n",
            "625/625 [==============================] - 2s 4ms/step - loss: 0.1329 - accuracy: 0.9503 - val_loss: 0.6223 - val_accuracy: 0.8035\n",
            "Epoch 10/50\n",
            "625/625 [==============================] - 2s 4ms/step - loss: 0.1092 - accuracy: 0.9603 - val_loss: 0.6826 - val_accuracy: 0.8040\n",
            "Epoch 11/50\n",
            "625/625 [==============================] - 2s 4ms/step - loss: 0.0901 - accuracy: 0.9691 - val_loss: 0.7617 - val_accuracy: 0.7994\n",
            "Epoch 12/50\n",
            "625/625 [==============================] - 2s 4ms/step - loss: 0.0739 - accuracy: 0.9758 - val_loss: 0.8283 - val_accuracy: 0.7952\n",
            "Epoch 13/50\n",
            "625/625 [==============================] - 2s 4ms/step - loss: 0.0633 - accuracy: 0.9783 - val_loss: 0.9838 - val_accuracy: 0.7863\n",
            "Epoch 14/50\n",
            "625/625 [==============================] - 2s 4ms/step - loss: 0.0609 - accuracy: 0.9779 - val_loss: 1.0003 - val_accuracy: 0.7901\n",
            "Epoch 15/50\n",
            "625/625 [==============================] - 2s 4ms/step - loss: 0.0523 - accuracy: 0.9812 - val_loss: 1.0527 - val_accuracy: 0.7934\n",
            "Epoch 16/50\n",
            "625/625 [==============================] - 2s 4ms/step - loss: 0.0469 - accuracy: 0.9832 - val_loss: 1.1486 - val_accuracy: 0.7977\n",
            "Epoch 17/50\n",
            "625/625 [==============================] - 2s 4ms/step - loss: 0.0399 - accuracy: 0.9855 - val_loss: 1.2341 - val_accuracy: 0.7870\n",
            "Epoch 18/50\n",
            "625/625 [==============================] - 2s 4ms/step - loss: 0.0391 - accuracy: 0.9852 - val_loss: 1.2519 - val_accuracy: 0.7876\n",
            "Epoch 19/50\n",
            "625/625 [==============================] - 2s 4ms/step - loss: 0.0365 - accuracy: 0.9870 - val_loss: 1.3700 - val_accuracy: 0.7858\n",
            "Epoch 20/50\n",
            "625/625 [==============================] - 2s 4ms/step - loss: 0.0388 - accuracy: 0.9846 - val_loss: 1.3095 - val_accuracy: 0.7866\n",
            "Epoch 21/50\n",
            "625/625 [==============================] - 2s 4ms/step - loss: 0.0388 - accuracy: 0.9854 - val_loss: 1.3798 - val_accuracy: 0.7904\n",
            "Epoch 22/50\n",
            "625/625 [==============================] - 2s 4ms/step - loss: 0.0308 - accuracy: 0.9880 - val_loss: 1.5493 - val_accuracy: 0.7922\n",
            "Epoch 23/50\n",
            "625/625 [==============================] - 2s 4ms/step - loss: 0.0282 - accuracy: 0.9890 - val_loss: 1.5426 - val_accuracy: 0.7912\n",
            "Epoch 24/50\n",
            "625/625 [==============================] - 2s 4ms/step - loss: 0.0259 - accuracy: 0.9895 - val_loss: 1.6071 - val_accuracy: 0.7883\n",
            "Epoch 25/50\n",
            "625/625 [==============================] - 2s 4ms/step - loss: 0.0322 - accuracy: 0.9863 - val_loss: 1.5732 - val_accuracy: 0.7909\n",
            "Epoch 26/50\n",
            "625/625 [==============================] - 2s 4ms/step - loss: 0.0349 - accuracy: 0.9865 - val_loss: 1.6907 - val_accuracy: 0.7842\n",
            "Epoch 27/50\n",
            "625/625 [==============================] - 2s 4ms/step - loss: 0.0288 - accuracy: 0.9882 - val_loss: 1.7719 - val_accuracy: 0.7971\n",
            "Epoch 28/50\n",
            "625/625 [==============================] - 2s 4ms/step - loss: 0.0260 - accuracy: 0.9892 - val_loss: 1.8149 - val_accuracy: 0.7894\n",
            "Epoch 29/50\n",
            "625/625 [==============================] - 2s 4ms/step - loss: 0.0220 - accuracy: 0.9904 - val_loss: 1.8279 - val_accuracy: 0.7897\n",
            "Epoch 30/50\n",
            "625/625 [==============================] - 2s 4ms/step - loss: 0.0241 - accuracy: 0.9904 - val_loss: 1.8597 - val_accuracy: 0.7934\n",
            "Epoch 31/50\n",
            "625/625 [==============================] - 2s 4ms/step - loss: 0.0255 - accuracy: 0.9894 - val_loss: 1.9165 - val_accuracy: 0.7836\n",
            "Epoch 32/50\n",
            "625/625 [==============================] - 2s 4ms/step - loss: 0.0278 - accuracy: 0.9886 - val_loss: 1.9035 - val_accuracy: 0.7863\n",
            "Epoch 33/50\n",
            "625/625 [==============================] - 2s 4ms/step - loss: 0.0236 - accuracy: 0.9897 - val_loss: 1.9797 - val_accuracy: 0.7851\n",
            "Epoch 34/50\n",
            "625/625 [==============================] - 2s 4ms/step - loss: 0.0229 - accuracy: 0.9901 - val_loss: 2.0126 - val_accuracy: 0.7897\n",
            "Epoch 35/50\n",
            "625/625 [==============================] - 2s 4ms/step - loss: 0.0216 - accuracy: 0.9904 - val_loss: 2.1454 - val_accuracy: 0.7904\n",
            "Epoch 36/50\n",
            "625/625 [==============================] - 2s 4ms/step - loss: 0.0252 - accuracy: 0.9888 - val_loss: 2.0346 - val_accuracy: 0.7830\n",
            "Epoch 37/50\n",
            "625/625 [==============================] - 2s 4ms/step - loss: 0.0265 - accuracy: 0.9890 - val_loss: 2.0721 - val_accuracy: 0.7889\n",
            "Epoch 38/50\n",
            "625/625 [==============================] - 2s 4ms/step - loss: 0.0213 - accuracy: 0.9903 - val_loss: 2.0566 - val_accuracy: 0.7962\n",
            "Epoch 39/50\n",
            "625/625 [==============================] - 2s 4ms/step - loss: 0.0200 - accuracy: 0.9912 - val_loss: 2.2481 - val_accuracy: 0.7928\n",
            "Epoch 40/50\n",
            "625/625 [==============================] - 2s 4ms/step - loss: 0.0289 - accuracy: 0.9877 - val_loss: 2.2141 - val_accuracy: 0.7895\n",
            "Epoch 41/50\n",
            "625/625 [==============================] - 2s 4ms/step - loss: 0.0234 - accuracy: 0.9902 - val_loss: 2.2302 - val_accuracy: 0.7936\n",
            "Epoch 42/50\n",
            "625/625 [==============================] - 2s 4ms/step - loss: 0.0186 - accuracy: 0.9918 - val_loss: 2.2795 - val_accuracy: 0.7967\n",
            "Epoch 43/50\n",
            "625/625 [==============================] - 2s 4ms/step - loss: 0.0186 - accuracy: 0.9919 - val_loss: 2.2293 - val_accuracy: 0.7918\n",
            "Epoch 44/50\n",
            "625/625 [==============================] - 2s 4ms/step - loss: 0.0197 - accuracy: 0.9913 - val_loss: 2.3126 - val_accuracy: 0.7928\n",
            "Epoch 45/50\n",
            "625/625 [==============================] - 2s 4ms/step - loss: 0.0246 - accuracy: 0.9896 - val_loss: 2.3228 - val_accuracy: 0.7901\n",
            "Epoch 46/50\n",
            "625/625 [==============================] - 2s 4ms/step - loss: 0.0215 - accuracy: 0.9906 - val_loss: 2.3408 - val_accuracy: 0.7940\n",
            "Epoch 47/50\n",
            "625/625 [==============================] - 2s 4ms/step - loss: 0.0181 - accuracy: 0.9920 - val_loss: 2.2579 - val_accuracy: 0.7924\n",
            "Epoch 48/50\n",
            "625/625 [==============================] - 2s 4ms/step - loss: 0.0209 - accuracy: 0.9910 - val_loss: 2.3366 - val_accuracy: 0.7934\n",
            "Epoch 49/50\n",
            "625/625 [==============================] - 2s 4ms/step - loss: 0.0197 - accuracy: 0.9913 - val_loss: 2.3831 - val_accuracy: 0.7958\n",
            "Epoch 50/50\n",
            "625/625 [==============================] - 2s 4ms/step - loss: 0.0223 - accuracy: 0.9907 - val_loss: 2.5182 - val_accuracy: 0.7934\n"
          ],
          "name": "stdout"
        }
      ]
    },
    {
      "cell_type": "code",
      "metadata": {
        "colab_type": "code",
        "id": "g9DC6dmLF8DC",
        "outputId": "7d2a4ea6-18a2-429b-d743-436d5f4f7b00",
        "colab": {
          "base_uri": "https://localhost:8080/",
          "height": 542
        }
      },
      "source": [
        "import matplotlib.pyplot as plt\n",
        "\n",
        "\n",
        "def plot_graphs(history, string):\n",
        "  plt.plot(history.history[string])\n",
        "  plt.plot(history.history['val_'+string])\n",
        "  plt.xlabel(\"Epochs\")\n",
        "  plt.ylabel(string)\n",
        "  plt.legend([string, 'val_'+string])\n",
        "  plt.show()\n",
        "\n",
        "plot_graphs(history, 'accuracy')\n",
        "plot_graphs(history, 'loss')"
      ],
      "execution_count": 0,
      "outputs": [
        {
          "output_type": "display_data",
          "data": {
            "image/png": "[encoded data removed]",
            "text/plain": [
              "<Figure size 432x288 with 1 Axes>"
            ]
          },
          "metadata": {
            "tags": [],
            "needs_background": "light"
          }
        },
        {
          "output_type": "display_data",
          "data": {
            "image/png": "[encoded data removed]",
            "text/plain": [
              "<Figure size 432x288 with 1 Axes>"
            ]
          },
          "metadata": {
            "tags": [],
            "needs_background": "light"
          }
        }
      ]
    },
    {
      "cell_type": "code",
      "metadata": {
        "colab_type": "code",
        "id": "7ZEZIUppGhdi",
        "colab": {}
      },
      "source": [
        "model.save(\"test.h5\")"
      ],
      "execution_count": 0,
      "outputs": []
    },
    {
      "cell_type": "markdown",
      "metadata": {
        "id": "rYCo93i_yf8y",
        "colab_type": "text"
      },
      "source": [
        "#Validation loss increases with validation accuracy due to overfitting because we have many OOV tokens for validation  data "
      ]
    }
  ]
}
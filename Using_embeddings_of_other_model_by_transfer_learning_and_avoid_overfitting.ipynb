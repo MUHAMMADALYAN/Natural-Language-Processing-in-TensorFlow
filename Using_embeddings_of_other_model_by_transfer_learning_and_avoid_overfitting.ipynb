{
  "nbformat": 4,
  "nbformat_minor": 0,
  "metadata": {
    "accelerator": "GPU",
    "colab": {
      "name": "Using embeddings of other model by transfer learning and avoid overfitting.ipynb",
      "provenance": [],
      "collapsed_sections": [],
      "toc_visible": true,
      "include_colab_link": true
    },
    "kernelspec": {
      "display_name": "Python 3",
      "name": "python3"
    }
  },
  "cells": [
    {
      "cell_type": "markdown",
      "metadata": {
        "id": "view-in-github",
        "colab_type": "text"
      },
      "source": [
        "<a href=\"https://colab.research.google.com/github/MUHAMMADALYAN/Natural-Language-Processing-in-TensorFlow/blob/master/Using_embeddings_of_other_model_by_transfer_learning_and_avoid_overfitting.ipynb\" target=\"_parent\"><img src=\"https://colab.research.google.com/assets/colab-badge.svg\" alt=\"Open In Colab\"/></a>"
      ]
    },
    {
      "cell_type": "markdown",
      "metadata": {
        "id": "651GAMq9Jxx3",
        "colab_type": "text"
      },
      "source": [
        "# Using embeddings of other model by transfer learning and avoid overfitting"
      ]
    },
    {
      "cell_type": "code",
      "metadata": {
        "colab_type": "code",
        "id": "hmA6EzkQJ5jt",
        "colab": {}
      },
      "source": [
        "import json\n",
        "import tensorflow as tf\n",
        "import csv\n",
        "import random\n",
        "import numpy as np\n",
        "\n",
        "from tensorflow.keras.preprocessing.text import Tokenizer\n",
        "from tensorflow.keras.preprocessing.sequence import pad_sequences\n",
        "from tensorflow.keras.utils import to_categorical\n",
        "from tensorflow.keras import regularizers\n",
        "\n",
        "\n",
        "embedding_dim = 100\n",
        "max_length = 16\n",
        "trunc_type='post'\n",
        "padding_type='post'\n",
        "oov_tok = \"<OOV>\"\n",
        "training_size=160000\n",
        "test_portion=.1\n",
        "\n",
        "corpus = []\n"
      ],
      "execution_count": 0,
      "outputs": []
    },
    {
      "cell_type": "markdown",
      "metadata": {
        "id": "2loU6aOJKHed",
        "colab_type": "text"
      },
      "source": [
        ""
      ]
    },
    {
      "cell_type": "code",
      "metadata": {
        "colab_type": "code",
        "id": "bM0l_dORKqE0",
        "outputId": "59237bf5-15ba-4a61-97d7-a01bc03d64df",
        "colab": {
          "base_uri": "https://localhost:8080/",
          "height": 204
        }
      },
      "source": [
        "# Note that I cleaned the Stanford dataset to remove LATIN1 encoding to make it easier for Python CSV reader\n",
        "# You can do that yourself with:\n",
        "# iconv -f LATIN1 -t UTF8 training.1600000.processed.noemoticon.csv -o training_cleaned.csv\n",
        "# I then hosted it on my site to make it easier to use in this notebook\n",
        "\n",
        "!wget --no-check-certificate \\\n",
        "    https://storage.googleapis.com/laurencemoroney-blog.appspot.com/training_cleaned.csv \\\n",
        "    -O /tmp/training_cleaned.csv\n",
        "\n",
        "num_sentences = 0\n",
        "\n",
        "with open(\"/tmp/training_cleaned.csv\") as csvfile:\n",
        "    reader = csv.reader(csvfile, delimiter=',')\n",
        "    for row in reader:\n",
        "        list_item=[]\n",
        "        list_item.append(row[5])\n",
        "        this_label=row[0]\n",
        "        if this_label=='0':\n",
        "            list_item.append(0)\n",
        "        else:\n",
        "            list_item.append(1)\n",
        "        num_sentences = num_sentences + 1\n",
        "        corpus.append(list_item)\n"
      ],
      "execution_count": 0,
      "outputs": [
        {
          "output_type": "stream",
          "text": [
            "--2020-05-31 14:15:14--  https://storage.googleapis.com/laurencemoroney-blog.appspot.com/training_cleaned.csv\n",
            "Resolving storage.googleapis.com (storage.googleapis.com)... 108.177.125.128, 2404:6800:4008:c05::80\n",
            "Connecting to storage.googleapis.com (storage.googleapis.com)|108.177.125.128|:443... connected.\n",
            "HTTP request sent, awaiting response... 200 OK\n",
            "Length: 238942690 (228M) [application/octet-stream]\n",
            "Saving to: ‘/tmp/training_cleaned.csv’\n",
            "\n",
            "\r          /tmp/trai   0%[                    ]       0  --.-KB/s               \r         /tmp/train  13%[=>                  ]  30.29M   151MB/s               \r        /tmp/traini  36%[======>             ]  82.33M   206MB/s               \r       /tmp/trainin  53%[=========>          ] 121.47M   202MB/s               \r      /tmp/training  70%[=============>      ] 160.05M   200MB/s               \r     /tmp/training_  94%[=================>  ] 216.19M   216MB/s               \r/tmp/training_clean 100%[===================>] 227.87M   213MB/s    in 1.1s    \n",
            "\n",
            "2020-05-31 14:15:15 (213 MB/s) - ‘/tmp/training_cleaned.csv’ saved [238942690/238942690]\n",
            "\n"
          ],
          "name": "stdout"
        }
      ]
    },
    {
      "cell_type": "code",
      "metadata": {
        "colab_type": "code",
        "id": "3kxblBUjEUX-",
        "outputId": "e46f17a0-f811-467c-eb47-0dc7fd1f67da",
        "colab": {
          "base_uri": "https://localhost:8080/",
          "height": 68
        }
      },
      "source": [
        "print(num_sentences)\n",
        "print(len(corpus))\n",
        "print(corpus[1])\n",
        "\n",
        "# Expected Output:\n",
        "# 1600000\n",
        "# 1600000\n",
        "# [\"is upset that he can't update his Facebook by texting it... and might cry as a result  School today also. Blah!\", 0]"
      ],
      "execution_count": 0,
      "outputs": [
        {
          "output_type": "stream",
          "text": [
            "1600000\n",
            "1600000\n",
            "[\"is upset that he can't update his Facebook by texting it... and might cry as a result  School today also. Blah!\", 0]\n"
          ],
          "name": "stdout"
        }
      ]
    },
    {
      "cell_type": "markdown",
      "metadata": {
        "id": "CM0x2PTcKQmC",
        "colab_type": "text"
      },
      "source": [
        "### Coverting lists to numpy array for fiting them in model"
      ]
    },
    {
      "cell_type": "code",
      "metadata": {
        "colab_type": "code",
        "id": "ohOGz24lsNAD",
        "colab": {}
      },
      "source": [
        "sentences=[]\n",
        "labels=[]\n",
        "random.shuffle(corpus)\n",
        "for x in range(training_size):\n",
        "    sentences.append(corpus[x][0])\n",
        "    labels.append(corpus[x][1])\n",
        "\n",
        "\n",
        "tokenizer = Tokenizer()\n",
        "tokenizer.fit_on_texts(sentences)\n",
        "\n",
        "word_index = tokenizer.word_index\n",
        "vocab_size=len(word_index)\n",
        "\n",
        "sequences = tokenizer.texts_to_sequences(sentences)\n",
        "padded = pad_sequences(sequences, maxlen=max_length, padding=padding_type, truncating=trunc_type)\n",
        "\n",
        "split = int(test_portion * training_size)\n",
        "\n",
        "test_sequences = padded[0:split]\n",
        "training_sequences = padded[split:training_size]\n",
        "test_labels = labels[0:split]\n",
        "training_labels = labels[split:training_size]\n",
        "\n",
        "# converting them to fit them in the model\n",
        "training_seqences = np.array(training_sequences)\n",
        "training_labels = np.array(training_labels)\n",
        "test_sequences = np.array(test_sequences)\n",
        "test_labels = np.array(test_labels)\n",
        "\n"
      ],
      "execution_count": 0,
      "outputs": []
    },
    {
      "cell_type": "code",
      "metadata": {
        "colab_type": "code",
        "id": "gIrtRem1En3N",
        "outputId": "f9a243d4-ce89-4b78-d6c5-94a0f6e2259e",
        "colab": {
          "base_uri": "https://localhost:8080/",
          "height": 51
        }
      },
      "source": [
        "print(vocab_size)\n",
        "print(word_index['i'])\n",
        "# Expected Output\n",
        "# 138858\n",
        "# 1"
      ],
      "execution_count": 0,
      "outputs": [
        {
          "output_type": "stream",
          "text": [
            "138472\n",
            "1\n"
          ],
          "name": "stdout"
        }
      ]
    },
    {
      "cell_type": "code",
      "metadata": {
        "colab_type": "code",
        "id": "C1zdgJkusRh0",
        "outputId": "4f05ec2c-2e2e-4d2e-98e0-2e6e169933e9",
        "colab": {
          "base_uri": "https://localhost:8080/",
          "height": 204
        }
      },
      "source": [
        "# Note this is the 100 dimension version of GloVe from Stanford\n",
        "# I unzipped and hosted it on my site to make this notebook easier\n",
        "!wget --no-check-certificate \\\n",
        "    https://storage.googleapis.com/laurencemoroney-blog.appspot.com/glove.6B.100d.txt \\\n",
        "    -O /tmp/glove.6B.100d.txt\n",
        "embeddings_index = {};\n",
        "with open('/tmp/glove.6B.100d.txt') as f:\n",
        "    for line in f:\n",
        "        values = line.split();\n",
        "        word = values[0];\n",
        "        coefs = np.asarray(values[1:], dtype='float32');\n",
        "        embeddings_index[word] = coefs;\n",
        "\n",
        "embeddings_matrix = np.zeros((vocab_size+1, embedding_dim));\n",
        "for word, i in word_index.items():\n",
        "    embedding_vector = embeddings_index.get(word);\n",
        "    if embedding_vector is not None:\n",
        "        embeddings_matrix[i] = embedding_vector;"
      ],
      "execution_count": 0,
      "outputs": [
        {
          "output_type": "stream",
          "text": [
            "--2020-05-31 14:32:23--  https://storage.googleapis.com/laurencemoroney-blog.appspot.com/glove.6B.100d.txt\n",
            "Resolving storage.googleapis.com (storage.googleapis.com)... 108.177.125.128, 2404:6800:4008:c04::80\n",
            "Connecting to storage.googleapis.com (storage.googleapis.com)|108.177.125.128|:443... connected.\n",
            "HTTP request sent, awaiting response... 200 OK\n",
            "Length: 347116733 (331M) [text/plain]\n",
            "Saving to: ‘/tmp/glove.6B.100d.txt’\n",
            "\n",
            "/tmp/glove.6B.100d. 100%[===================>] 331.04M  97.4MB/s    in 3.4s    \n",
            "\n",
            "2020-05-31 14:32:27 (97.4 MB/s) - ‘/tmp/glove.6B.100d.txt’ saved [347116733/347116733]\n",
            "\n"
          ],
          "name": "stdout"
        }
      ]
    },
    {
      "cell_type": "code",
      "metadata": {
        "colab_type": "code",
        "id": "71NLk_lpFLNt",
        "outputId": "8f8278c4-5e48-4483-e880-f466a11b1203",
        "colab": {
          "base_uri": "https://localhost:8080/",
          "height": 34
        }
      },
      "source": [
        "print(len(embeddings_matrix))\n",
        "# Expected Output\n",
        "# 138859"
      ],
      "execution_count": 0,
      "outputs": [
        {
          "output_type": "stream",
          "text": [
            "138090\n"
          ],
          "name": "stdout"
        }
      ]
    },
    {
      "cell_type": "markdown",
      "metadata": {
        "id": "uocbX0YHKtQ3",
        "colab_type": "text"
      },
      "source": [
        "### To avoid overfitting we will use dropt"
      ]
    },
    {
      "cell_type": "code",
      "metadata": {
        "colab_type": "code",
        "id": "iKKvbuEBOGFz",
        "outputId": "434e72c6-7874-4779-96de-4b37331a0721",
        "colab": {
          "base_uri": "https://localhost:8080/",
          "height": 1000
        }
      },
      "source": [
        "model = tf.keras.Sequential([\n",
        "    tf.keras.layers.Embedding(vocab_size+1, embedding_dim, input_length=max_length, weights=[embeddings_matrix], trainable=False),\n",
        "    tf.keras.layers.Dropout(0.2),# to avoid overfitting\n",
        "    tf.keras.layers.Conv1D(64, 5, activation='relu'),\n",
        "    tf.keras.layers.MaxPooling1D(pool_size=4),\n",
        "    tf.keras.layers.LSTM(64),\n",
        "    tf.keras.layers.Dense(1, activation='sigmoid')\n",
        "])\n",
        "model.compile(loss='binary_crossentropy',optimizer='adam',metrics=['accuracy'])\n",
        "model.summary()\n",
        "\n",
        "num_epochs = 50\n",
        "\n",
        "history = model.fit(training_sequences, training_labels, epochs=num_epochs, validation_data=(test_sequences, test_labels), verbose=2)\n",
        "\n",
        "print(\"Training Complete\")\n"
      ],
      "execution_count": 0,
      "outputs": [
        {
          "output_type": "stream",
          "text": [
            "Model: \"sequential_1\"\n",
            "_________________________________________________________________\n",
            "Layer (type)                 Output Shape              Param #   \n",
            "=================================================================\n",
            "embedding_1 (Embedding)      (None, 16, 100)           13847300  \n",
            "_________________________________________________________________\n",
            "dropout_1 (Dropout)          (None, 16, 100)           0         \n",
            "_________________________________________________________________\n",
            "conv1d_1 (Conv1D)            (None, 12, 64)            32064     \n",
            "_________________________________________________________________\n",
            "max_pooling1d_1 (MaxPooling1 (None, 3, 64)             0         \n",
            "_________________________________________________________________\n",
            "lstm_1 (LSTM)                (None, 64)                33024     \n",
            "_________________________________________________________________\n",
            "dense_1 (Dense)              (None, 1)                 65        \n",
            "=================================================================\n",
            "Total params: 13,912,453\n",
            "Trainable params: 65,153\n",
            "Non-trainable params: 13,847,300\n",
            "_________________________________________________________________\n",
            "Epoch 1/50\n",
            "4500/4500 - 21s - loss: 0.5640 - accuracy: 0.7014 - val_loss: 0.5218 - val_accuracy: 0.7368\n",
            "Epoch 2/50\n",
            "4500/4500 - 21s - loss: 0.5246 - accuracy: 0.7337 - val_loss: 0.5109 - val_accuracy: 0.7458\n",
            "Epoch 3/50\n",
            "4500/4500 - 20s - loss: 0.5082 - accuracy: 0.7466 - val_loss: 0.5057 - val_accuracy: 0.7520\n",
            "Epoch 4/50\n",
            "4500/4500 - 20s - loss: 0.4977 - accuracy: 0.7526 - val_loss: 0.4995 - val_accuracy: 0.7531\n",
            "Epoch 5/50\n",
            "4500/4500 - 22s - loss: 0.4876 - accuracy: 0.7589 - val_loss: 0.4973 - val_accuracy: 0.7559\n",
            "Epoch 6/50\n",
            "4500/4500 - 21s - loss: 0.4816 - accuracy: 0.7630 - val_loss: 0.4973 - val_accuracy: 0.7559\n",
            "Epoch 7/50\n",
            "4500/4500 - 20s - loss: 0.4751 - accuracy: 0.7668 - val_loss: 0.5008 - val_accuracy: 0.7539\n",
            "Epoch 8/50\n",
            "4500/4500 - 20s - loss: 0.4706 - accuracy: 0.7700 - val_loss: 0.4950 - val_accuracy: 0.7584\n",
            "Epoch 9/50\n",
            "4500/4500 - 20s - loss: 0.4662 - accuracy: 0.7736 - val_loss: 0.4990 - val_accuracy: 0.7574\n",
            "Epoch 10/50\n",
            "4500/4500 - 20s - loss: 0.4623 - accuracy: 0.7747 - val_loss: 0.5018 - val_accuracy: 0.7544\n",
            "Epoch 11/50\n",
            "4500/4500 - 21s - loss: 0.4593 - accuracy: 0.7780 - val_loss: 0.5051 - val_accuracy: 0.7574\n",
            "Epoch 12/50\n",
            "4500/4500 - 20s - loss: 0.4574 - accuracy: 0.7791 - val_loss: 0.5065 - val_accuracy: 0.7487\n",
            "Epoch 13/50\n",
            "4500/4500 - 20s - loss: 0.4532 - accuracy: 0.7812 - val_loss: 0.4998 - val_accuracy: 0.7548\n",
            "Epoch 14/50\n",
            "4500/4500 - 20s - loss: 0.4516 - accuracy: 0.7829 - val_loss: 0.5021 - val_accuracy: 0.7559\n",
            "Epoch 15/50\n",
            "4500/4500 - 20s - loss: 0.4481 - accuracy: 0.7850 - val_loss: 0.5014 - val_accuracy: 0.7560\n",
            "Epoch 16/50\n",
            "4500/4500 - 20s - loss: 0.4468 - accuracy: 0.7847 - val_loss: 0.5017 - val_accuracy: 0.7539\n",
            "Epoch 17/50\n",
            "4500/4500 - 20s - loss: 0.4457 - accuracy: 0.7851 - val_loss: 0.5015 - val_accuracy: 0.7551\n",
            "Epoch 18/50\n",
            "4500/4500 - 20s - loss: 0.4417 - accuracy: 0.7886 - val_loss: 0.5057 - val_accuracy: 0.7514\n",
            "Epoch 19/50\n",
            "4500/4500 - 20s - loss: 0.4428 - accuracy: 0.7870 - val_loss: 0.5094 - val_accuracy: 0.7518\n",
            "Epoch 20/50\n",
            "4500/4500 - 21s - loss: 0.4404 - accuracy: 0.7889 - val_loss: 0.5070 - val_accuracy: 0.7533\n",
            "Epoch 21/50\n",
            "4500/4500 - 20s - loss: 0.4392 - accuracy: 0.7889 - val_loss: 0.5068 - val_accuracy: 0.7523\n",
            "Epoch 22/50\n",
            "4500/4500 - 20s - loss: 0.4389 - accuracy: 0.7904 - val_loss: 0.5085 - val_accuracy: 0.7529\n",
            "Epoch 23/50\n",
            "4500/4500 - 20s - loss: 0.4360 - accuracy: 0.7916 - val_loss: 0.5151 - val_accuracy: 0.7523\n",
            "Epoch 24/50\n",
            "4500/4500 - 20s - loss: 0.4364 - accuracy: 0.7906 - val_loss: 0.5126 - val_accuracy: 0.7527\n",
            "Epoch 25/50\n",
            "4500/4500 - 20s - loss: 0.4350 - accuracy: 0.7912 - val_loss: 0.5099 - val_accuracy: 0.7535\n",
            "Epoch 26/50\n",
            "4500/4500 - 21s - loss: 0.4343 - accuracy: 0.7942 - val_loss: 0.5175 - val_accuracy: 0.7522\n",
            "Epoch 27/50\n",
            "4500/4500 - 20s - loss: 0.4345 - accuracy: 0.7932 - val_loss: 0.5116 - val_accuracy: 0.7499\n",
            "Epoch 28/50\n",
            "4500/4500 - 20s - loss: 0.4332 - accuracy: 0.7925 - val_loss: 0.5127 - val_accuracy: 0.7552\n",
            "Epoch 29/50\n",
            "4500/4500 - 20s - loss: 0.4333 - accuracy: 0.7930 - val_loss: 0.5140 - val_accuracy: 0.7476\n",
            "Epoch 30/50\n",
            "4500/4500 - 20s - loss: 0.4316 - accuracy: 0.7948 - val_loss: 0.5166 - val_accuracy: 0.7531\n",
            "Epoch 31/50\n",
            "4500/4500 - 20s - loss: 0.4314 - accuracy: 0.7948 - val_loss: 0.5158 - val_accuracy: 0.7491\n",
            "Epoch 32/50\n",
            "4500/4500 - 20s - loss: 0.4312 - accuracy: 0.7938 - val_loss: 0.5191 - val_accuracy: 0.7491\n",
            "Epoch 33/50\n",
            "4500/4500 - 20s - loss: 0.4288 - accuracy: 0.7965 - val_loss: 0.5213 - val_accuracy: 0.7498\n",
            "Epoch 34/50\n",
            "4500/4500 - 20s - loss: 0.4303 - accuracy: 0.7950 - val_loss: 0.5205 - val_accuracy: 0.7493\n",
            "Epoch 35/50\n",
            "4500/4500 - 21s - loss: 0.4301 - accuracy: 0.7944 - val_loss: 0.5149 - val_accuracy: 0.7502\n",
            "Epoch 36/50\n",
            "4500/4500 - 21s - loss: 0.4287 - accuracy: 0.7957 - val_loss: 0.5176 - val_accuracy: 0.7497\n",
            "Epoch 37/50\n",
            "4500/4500 - 20s - loss: 0.4280 - accuracy: 0.7959 - val_loss: 0.5219 - val_accuracy: 0.7544\n",
            "Epoch 38/50\n",
            "4500/4500 - 20s - loss: 0.4280 - accuracy: 0.7966 - val_loss: 0.5187 - val_accuracy: 0.7517\n",
            "Epoch 39/50\n",
            "4500/4500 - 20s - loss: 0.4277 - accuracy: 0.7970 - val_loss: 0.5167 - val_accuracy: 0.7517\n",
            "Epoch 40/50\n",
            "4500/4500 - 20s - loss: 0.4276 - accuracy: 0.7976 - val_loss: 0.5219 - val_accuracy: 0.7502\n",
            "Epoch 41/50\n",
            "4500/4500 - 21s - loss: 0.4278 - accuracy: 0.7956 - val_loss: 0.5216 - val_accuracy: 0.7505\n",
            "Epoch 42/50\n",
            "4500/4500 - 20s - loss: 0.4269 - accuracy: 0.7967 - val_loss: 0.5171 - val_accuracy: 0.7492\n",
            "Epoch 43/50\n",
            "4500/4500 - 20s - loss: 0.4273 - accuracy: 0.7965 - val_loss: 0.5215 - val_accuracy: 0.7501\n",
            "Epoch 44/50\n",
            "4500/4500 - 20s - loss: 0.4271 - accuracy: 0.7972 - val_loss: 0.5190 - val_accuracy: 0.7486\n",
            "Epoch 45/50\n",
            "4500/4500 - 20s - loss: 0.4265 - accuracy: 0.7980 - val_loss: 0.5160 - val_accuracy: 0.7511\n",
            "Epoch 46/50\n",
            "4500/4500 - 20s - loss: 0.4246 - accuracy: 0.7989 - val_loss: 0.5181 - val_accuracy: 0.7467\n",
            "Epoch 47/50\n",
            "4500/4500 - 20s - loss: 0.4248 - accuracy: 0.7987 - val_loss: 0.5206 - val_accuracy: 0.7484\n",
            "Epoch 48/50\n",
            "4500/4500 - 20s - loss: 0.4256 - accuracy: 0.7979 - val_loss: 0.5207 - val_accuracy: 0.7476\n",
            "Epoch 49/50\n",
            "4500/4500 - 20s - loss: 0.4252 - accuracy: 0.7971 - val_loss: 0.5179 - val_accuracy: 0.7479\n",
            "Epoch 50/50\n",
            "4500/4500 - 20s - loss: 0.4255 - accuracy: 0.7972 - val_loss: 0.5160 - val_accuracy: 0.7471\n",
            "Training Complete\n"
          ],
          "name": "stdout"
        }
      ]
    },
    {
      "cell_type": "code",
      "metadata": {
        "colab_type": "code",
        "id": "qxju4ItJKO8F",
        "outputId": "8f747738-55af-4f06-a773-896605297f05",
        "colab": {
          "base_uri": "https://localhost:8080/",
          "height": 607
        }
      },
      "source": [
        "import matplotlib.image  as mpimg\n",
        "import matplotlib.pyplot as plt\n",
        "\n",
        "#-----------------------------------------------------------\n",
        "# Retrieve a list of list results on training and test data\n",
        "# sets for each training epoch\n",
        "#-----------------------------------------------------------\n",
        "acc=history.history['accuracy']\n",
        "val_acc=history.history['val_accuracy']\n",
        "loss=history.history['loss']\n",
        "val_loss=history.history['val_loss']\n",
        "\n",
        "epochs=range(len(acc)) # Get number of epochs\n",
        "\n",
        "#------------------------------------------------\n",
        "# Plot training and validation accuracy per epoch\n",
        "#------------------------------------------------\n",
        "plt.plot(epochs, acc, 'r')\n",
        "plt.plot(epochs, val_acc, 'b')\n",
        "plt.title('Training and validation accuracy')\n",
        "plt.xlabel(\"Epochs\")\n",
        "plt.ylabel(\"Accuracy\")\n",
        "plt.legend([\"Accuracy\", \"Validation Accuracy\"])\n",
        "\n",
        "plt.figure()\n",
        "\n",
        "#------------------------------------------------\n",
        "# Plot training and validation loss per epoch\n",
        "#------------------------------------------------\n",
        "plt.plot(epochs, loss, 'r')\n",
        "plt.plot(epochs, val_loss, 'b')\n",
        "plt.title('Training and validation loss')\n",
        "plt.xlabel(\"Epochs\")\n",
        "plt.ylabel(\"Loss\")\n",
        "plt.legend([\"Loss\", \"Validation Loss\"])\n",
        "\n",
        "plt.figure()\n",
        "\n",
        "\n",
        "# Expected Output\n",
        "# A chart where the validation loss does not increase sharply!"
      ],
      "execution_count": 0,
      "outputs": [
        {
          "output_type": "execute_result",
          "data": {
            "text/plain": [
              "<Figure size 432x288 with 0 Axes>"
            ]
          },
          "metadata": {
            "tags": []
          },
          "execution_count": 13
        },
        {
          "output_type": "display_data",
          "data": {
            "image/png": "[encoded data removed]",
            "text/plain": [
              "<Figure size 432x288 with 1 Axes>"
            ]
          },
          "metadata": {
            "tags": [],
            "needs_background": "light"
          }
        },
        {
          "output_type": "display_data",
          "data": {
            "image/png": "[encoded data removed]",
            "text/plain": [
              "<Figure size 432x288 with 1 Axes>"
            ]
          },
          "metadata": {
            "tags": [],
            "needs_background": "light"
          }
        },
        {
          "output_type": "display_data",
          "data": {
            "text/plain": [
              "<Figure size 432x288 with 0 Axes>"
            ]
          },
          "metadata": {
            "tags": []
          }
        }
      ]
    }
  ]
}